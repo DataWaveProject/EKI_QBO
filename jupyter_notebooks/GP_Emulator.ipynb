{
 "cells": [
  {
   "cell_type": "code",
   "execution_count": 44,
   "id": "4b9c937e",
   "metadata": {},
   "outputs": [],
   "source": [
    "## Compare parameter values for EKI and history matching at iteration 1\n",
    "import os\n",
    "import glob\n",
    "import csv\n",
    "\n",
    "import sys\n",
    "sys.path.insert(0,'../../History-Matching-Core/src/')\n",
    "\n",
    "import math\n",
    "import numpy as np\n",
    "import matplotlib.pyplot as plt\n",
    "import matplotlib\n",
    "from cmcrameri import cm\n",
    "plt.rcParams.update({'font.size': 22})"
   ]
  },
  {
   "cell_type": "code",
   "execution_count": 2,
   "id": "fa22942c",
   "metadata": {},
   "outputs": [],
   "source": [
    "from history_matching.emulator import GPEmulator, implausibility"
   ]
  },
  {
   "cell_type": "code",
   "execution_count": 5,
   "id": "0c705fb4",
   "metadata": {},
   "outputs": [],
   "source": [
    "## Create array\n",
    "n_its = 6\n",
    "N = 50\n",
    "basedir = os.environ['GROUP_SCRATCH']+f\"/EKI_N{N}/\"\n",
    "plotdir = f\"{basedir}/PLOTS/\"\n",
    "\n",
    "params_files = [f\"{basedir}/iteration_{n}/paramlist.csv\" for n in range(0,n_its+1)]\n",
    "params = [np.genfromtxt(params_file, delimiter=',', skip_header=1) for params_file in params_files]\n",
    "\n",
    "\n",
    "param_arr = np.zeros((n_its+1, N, 2))\n",
    "for i in range(n_its+1):\n",
    "    param_arr[i] = params[i][:, 1:]\n",
    "\n",
    "iter_ind = np.arange(n_its+1)"
   ]
  },
  {
   "cell_type": "code",
   "execution_count": 6,
   "id": "1186cd3b",
   "metadata": {},
   "outputs": [
    {
     "data": {
      "text/plain": [
       "((7, 50, 2), (7,))"
      ]
     },
     "execution_count": 6,
     "metadata": {},
     "output_type": "execute_result"
    }
   ],
   "source": [
    "param_arr.shape, iter_ind.shape"
   ]
  },
  {
   "cell_type": "code",
   "execution_count": 8,
   "id": "b5e6410b",
   "metadata": {},
   "outputs": [],
   "source": [
    "## QBO files\n",
    "QBO_dir = [f\"{basedir}/iteration_{n}/\" for n in range(0,n_its+1)]\n",
    "QBO_arr = np.zeros((n_its, N, 2))\n",
    "QBO_err = np.zeros((n_its, N, 2))\n",
    "\n",
    "for i in range(n_its):\n",
    "    for j in range(N):\n",
    "        QBO_file = f\"{QBO_dir[i]}{j}/QBO_TT_metrics.csv\"\n",
    "        QBO_vals = np.genfromtxt(QBO_file, delimiter=',', skip_header=1)\n",
    "        QBO_arr[i, j] = QBO_vals[1:3]\n",
    "        QBO_err[i, j] = QBO_vals[[3, 6]]\n"
   ]
  },
  {
   "cell_type": "code",
   "execution_count": 9,
   "id": "65bfed70",
   "metadata": {},
   "outputs": [],
   "source": [
    "## Get QBO truth\n",
    "truthdir = \"/home/users/lauraman/EKI_OBS/ground_truth_data\"\n",
    "truth_filename = \"QBO_TT_metrics_ground_truth.csv\"\n",
    "\n",
    "filepath_truth = f\"{truthdir}/{truth_filename}\"\n",
    "QBO_truth = np.genfromtxt(filepath_truth, delimiter=',', skip_header=1)"
   ]
  },
  {
   "cell_type": "code",
   "execution_count": 10,
   "id": "db978612",
   "metadata": {},
   "outputs": [],
   "source": [
    "QBO_period_truth = QBO_truth[1]\n",
    "QBO_amp_truth = QBO_truth[2]\n",
    "QBO_period_sd = np.sqrt(QBO_truth[3])\n",
    "QBO_amp_sd = np.sqrt(QBO_truth[-1])"
   ]
  },
  {
   "cell_type": "code",
   "execution_count": 11,
   "id": "2318a8f4",
   "metadata": {},
   "outputs": [
    {
     "data": {
      "text/plain": [
       "((6, 50, 2), (6, 50, 2), (7, 50, 2))"
      ]
     },
     "execution_count": 11,
     "metadata": {},
     "output_type": "execute_result"
    }
   ],
   "source": [
    "QBO_err.shape, QBO_arr.shape, param_arr.shape"
   ]
  },
  {
   "cell_type": "code",
   "execution_count": 31,
   "id": "b7cd1197",
   "metadata": {},
   "outputs": [],
   "source": [
    "Gamma_obs = np.array((QBO_truth[3:5],QBO_truth[5:7]))\n"
   ]
  },
  {
   "cell_type": "code",
   "execution_count": 12,
   "id": "d6461cd8",
   "metadata": {},
   "outputs": [],
   "source": [
    "it = 0\n",
    "param_it = param_arr[it]\n",
    "QBO_it = QBO_arr[it]\n",
    "QBO_err_it = QBO_err[it]\n"
   ]
  },
  {
   "cell_type": "code",
   "execution_count": 13,
   "id": "69d623ba",
   "metadata": {},
   "outputs": [
    {
     "data": {
      "text/plain": [
       "((50, 2), (50, 2), (50, 2))"
      ]
     },
     "execution_count": 13,
     "metadata": {},
     "output_type": "execute_result"
    }
   ],
   "source": [
    "param_it.shape, QBO_it.shape, QBO_err_it.shape"
   ]
  },
  {
   "cell_type": "code",
   "execution_count": 14,
   "id": "591bbc2c",
   "metadata": {},
   "outputs": [],
   "source": [
    "emulator = GPEmulator()\n"
   ]
  },
  {
   "cell_type": "code",
   "execution_count": 15,
   "id": "db5e261c",
   "metadata": {},
   "outputs": [],
   "source": [
    "emulator.fit(param_it, QBO_it, QBO_err_it)"
   ]
  },
  {
   "cell_type": "code",
   "execution_count": 16,
   "id": "32f649e0",
   "metadata": {},
   "outputs": [
    {
     "data": {
      "text/plain": [
       "GPEmulator()"
      ]
     },
     "execution_count": 16,
     "metadata": {},
     "output_type": "execute_result"
    }
   ],
   "source": [
    "emulator"
   ]
  },
  {
   "cell_type": "code",
   "execution_count": 17,
   "id": "9aecac0e",
   "metadata": {},
   "outputs": [],
   "source": [
    "## Create grid of parameter space:\n",
    "N = 100\n",
    "cw = np.linspace(0., 80, N)\n",
    "Bt = np.linspace(0, 0.008, N)\n",
    "cwgrid, Btgrid = np.meshgrid(cw , Bt)"
   ]
  },
  {
   "cell_type": "code",
   "execution_count": 18,
   "id": "387392bf",
   "metadata": {},
   "outputs": [],
   "source": [
    "params = np.vstack((cwgrid.flatten(), Btgrid.flatten()))"
   ]
  },
  {
   "cell_type": "code",
   "execution_count": 19,
   "id": "d5f2790d",
   "metadata": {},
   "outputs": [
    {
     "data": {
      "text/plain": [
       "(2, 10000)"
      ]
     },
     "execution_count": 19,
     "metadata": {},
     "output_type": "execute_result"
    }
   ],
   "source": [
    "params.shape"
   ]
  },
  {
   "cell_type": "code",
   "execution_count": 20,
   "id": "a04e3a38",
   "metadata": {},
   "outputs": [],
   "source": [
    "emulator_values = emulator.predict(params.T)"
   ]
  },
  {
   "cell_type": "code",
   "execution_count": 21,
   "id": "5fb32f15",
   "metadata": {},
   "outputs": [],
   "source": [
    "period = emulator_values[:, 0].reshape((N,N))\n",
    "amp = emulator_values[:, 1].reshape((N,N))\n"
   ]
  },
  {
   "cell_type": "code",
   "execution_count": 22,
   "id": "b6dbf4db",
   "metadata": {},
   "outputs": [
    {
     "data": {
      "text/plain": [
       "<matplotlib.colorbar.Colorbar at 0x7f9ccdfbd340>"
      ]
     },
     "execution_count": 22,
     "metadata": {},
     "output_type": "execute_result"
    },
    {
     "data": {
      "image/png": "[encoded data removed]",
      "text/plain": [
       "<Figure size 432x288 with 2 Axes>"
      ]
     },
     "metadata": {
      "needs_background": "light"
     },
     "output_type": "display_data"
    }
   ],
   "source": [
    "plt.contourf(cwgrid, Btgrid*1e3, period)\n",
    "plt.colorbar()"
   ]
  },
  {
   "cell_type": "code",
   "execution_count": 23,
   "id": "506d3fa6",
   "metadata": {},
   "outputs": [
    {
     "data": {
      "text/plain": [
       "<matplotlib.colorbar.Colorbar at 0x7f9ccde1f0a0>"
      ]
     },
     "execution_count": 23,
     "metadata": {},
     "output_type": "execute_result"
    },
    {
     "data": {
      "image/png": "[encoded data removed]",
      "text/plain": [
       "<Figure size 432x288 with 2 Axes>"
      ]
     },
     "metadata": {
      "needs_background": "light"
     },
     "output_type": "display_data"
    }
   ],
   "source": [
    "plt.contourf(cwgrid, Btgrid*1e3, amp)\n",
    "plt.colorbar()"
   ]
  },
  {
   "cell_type": "code",
   "execution_count": 49,
   "id": "00562cda",
   "metadata": {},
   "outputs": [],
   "source": [
    "## Log likelihood\n",
    "def log_likelihood(y_pred, truth):\n",
    "    LL = - np.sum((( y_pred - truth ).T  *  np.linalg.inv(Gamma_obs) * (y_pred - truth) / 2.))\n",
    "    return LL"
   ]
  },
  {
   "cell_type": "code",
   "execution_count": 52,
   "id": "eab9726b",
   "metadata": {},
   "outputs": [],
   "source": [
    "truth_values = np.array([QBO_period_truth, QBO_amp_truth])\n",
    "log_likelihood_values = np.zeros(emulator_values.shape[0])\n",
    "for i in range(emulator_values.shape[0]):\n",
    "    log_likelihood_values[i]=log_likelihood(emulator_values[i,:], truth_values)"
   ]
  },
  {
   "cell_type": "code",
   "execution_count": 60,
   "id": "990419db",
   "metadata": {},
   "outputs": [
    {
     "data": {
      "text/plain": [
       "<matplotlib.colorbar.Colorbar at 0x7f9ccd9cb9a0>"
      ]
     },
     "execution_count": 60,
     "metadata": {},
     "output_type": "execute_result"
    },
    {
     "data": {
      "image/png": "[encoded data removed]",
      "text/plain": [
       "<Figure size 432x432 with 2 Axes>"
      ]
     },
     "metadata": {
      "needs_background": "light"
     },
     "output_type": "display_data"
    }
   ],
   "source": [
    "fig, ax = plt.subplots(1, 1, figsize=(6,6))\n",
    "\n",
    "plt.contourf(cwgrid, Btgrid*1e3, log_likelihood_values.reshape((N,N)))\n",
    "plt.xlabel(\"cw\")\n",
    "plt.ylabel(\"Bt_eq\")\n",
    "plt.title(\"Log likelihood\")\n",
    "plt.colorbar()"
   ]
  },
  {
   "cell_type": "code",
   "execution_count": null,
   "id": "d0844e4c",
   "metadata": {},
   "outputs": [],
   "source": []
  }
 ],
 "metadata": {
  "kernelspec": {
   "display_name": "plot_env",
   "language": "python",
   "name": "plot_env"
  },
  "language_info": {
   "codemirror_mode": {
    "name": "ipython",
    "version": 3
   },
   "file_extension": ".py",
   "mimetype": "text/x-python",
   "name": "python",
   "nbconvert_exporter": "python",
   "pygments_lexer": "ipython3",
   "version": "3.9.7"
  }
 },
 "nbformat": 4,
 "nbformat_minor": 5
}
